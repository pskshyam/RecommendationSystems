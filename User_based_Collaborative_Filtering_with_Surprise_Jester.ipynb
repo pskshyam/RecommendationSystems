{
  "nbformat": 4,
  "nbformat_minor": 0,
  "metadata": {
    "colab": {
      "name": "User-based Collaborative Filtering with Surprise - Jester.ipynb",
      "version": "0.3.2",
      "provenance": [],
      "include_colab_link": true
    },
    "kernelspec": {
      "name": "python2",
      "display_name": "Python 2"
    },
    "accelerator": "TPU"
  },
  "cells": [
    {
      "cell_type": "markdown",
      "metadata": {
        "id": "view-in-github",
        "colab_type": "text"
      },
      "source": [
        "<a href=\"https://colab.research.google.com/github/pskshyam/RecommendationSystems/blob/master/User_based_Collaborative_Filtering_with_Surprise_Jester.ipynb\" target=\"_parent\"><img src=\"https://colab.research.google.com/assets/colab-badge.svg\" alt=\"Open In Colab\"/></a>"
      ]
    },
    {
      "metadata": {
        "id": "AzQs9zyT_s3o",
        "colab_type": "text"
      },
      "cell_type": "markdown",
      "source": [
        "**Jester dataset**\n",
        "1. Data contain anonymous ratings data from users.\n",
        "2. Ratings are real values ranging from -10.00 to +10.00 (the value \"99\" corresponds to\n",
        "\"null\" = \"not rated\").\n",
        "3. One row per user\n",
        "4. The first column gives the number of jokes rated by that user. The next 100 columns give\n",
        "the ratings for jokes 01 - 100. \n",
        "\n",
        "More on the jester dataset can be found at http://eigentaste.berkeley.edu/dataset/"
      ]
    },
    {
      "metadata": {
        "id": "KmHMRrqf6Oi9",
        "colab_type": "code",
        "outputId": "b3badf32-991e-46b6-8912-7a355db0d69b",
        "colab": {
          "base_uri": "https://localhost:8080/",
          "height": 326
        }
      },
      "cell_type": "code",
      "source": [
        "#Install Surprise package\n",
        "!pip install scikit-surprise"
      ],
      "execution_count": 2,
      "outputs": [
        {
          "output_type": "stream",
          "text": [
            "Collecting scikit-surprise\n",
            "  Using cached https://files.pythonhosted.org/packages/4d/fc/cd4210b247d1dca421c25994740cbbf03c5e980e31881f10eaddf45fdab0/scikit-surprise-1.0.6.tar.gz\n",
            "Requirement already satisfied: joblib>=0.11 in /usr/local/lib/python2.7/dist-packages (from scikit-surprise) (0.12.5)\n",
            "Requirement already satisfied: numpy>=1.11.2 in /usr/local/lib/python2.7/dist-packages (from scikit-surprise) (1.14.6)\n",
            "Collecting scipy>=1.0.0 (from scikit-surprise)\n",
            "\u001b[?25l  Downloading https://files.pythonhosted.org/packages/2a/f3/de9c1bd16311982711209edaa8c6caa962db30ebb6a8cc6f1dcd2d3ef616/scipy-1.1.0-cp27-cp27mu-manylinux1_x86_64.whl (30.8MB)\n",
            "\u001b[K    100% |████████████████████████████████| 30.8MB 555kB/s \n",
            "\u001b[?25hRequirement already satisfied: six>=1.10.0 in /usr/local/lib/python2.7/dist-packages (from scikit-surprise) (1.11.0)\n",
            "Building wheels for collected packages: scikit-surprise\n",
            "  Running setup.py bdist_wheel for scikit-surprise ... \u001b[?25l-\b \b\\\b \b|\b \b/\b \b-\b \b\\\b \b|\b \b/\b \b-\b \b\\\b \b|\b \b/\b \b-\b \b\\\b \bdone\n",
            "\u001b[?25h  Stored in directory: /root/.cache/pip/wheels/ec/c0/55/3a28eab06b53c220015063ebbdb81213cd3dcbb72c088251ec\n",
            "Successfully built scikit-surprise\n",
            "Installing collected packages: scipy, scikit-surprise\n",
            "  Found existing installation: scipy 0.19.1\n",
            "    Uninstalling scipy-0.19.1:\n",
            "      Successfully uninstalled scipy-0.19.1\n",
            "Successfully installed scikit-surprise-1.0.6 scipy-1.1.0\n"
          ],
          "name": "stdout"
        }
      ]
    },
    {
      "metadata": {
        "id": "OZtpKSv7638z",
        "colab_type": "code",
        "colab": {}
      },
      "cell_type": "code",
      "source": [
        "#Import necessary libraries from surprise\n",
        "from surprise import Dataset\n",
        "from surprise import evaluate, print_perf\n",
        "from surprise import Reader\n",
        "from surprise import KNNBasic"
      ],
      "execution_count": 0,
      "outputs": []
    },
    {
      "metadata": {
        "id": "2qEhID9o8m9V",
        "colab_type": "code",
        "colab": {}
      },
      "cell_type": "code",
      "source": [
        "#Load the built in jester dataset\n",
        "data = Dataset.load_builtin('jester')"
      ],
      "execution_count": 0,
      "outputs": []
    },
    {
      "metadata": {
        "id": "J5NW4WOqB_Q9",
        "colab_type": "code",
        "colab": {}
      },
      "cell_type": "code",
      "source": [
        "# We need to split the Data into five folds to perform cross validation\n",
        "data.split(n_folds=5)"
      ],
      "execution_count": 0,
      "outputs": []
    },
    {
      "metadata": {
        "id": "WKdsSbwITzcQ",
        "colab_type": "text"
      },
      "cell_type": "markdown",
      "source": [
        "**SVD (Matrix Factorization method) **"
      ]
    },
    {
      "metadata": {
        "id": "DGlX6S20T3Jk",
        "colab_type": "code",
        "colab": {}
      },
      "cell_type": "code",
      "source": [
        "from surprise import SVD #Import SVD\n",
        "from surprise.model_selection import cross_validate #Import cross_validate"
      ],
      "execution_count": 0,
      "outputs": []
    },
    {
      "metadata": {
        "id": "iKgfI3tUUzLS",
        "colab_type": "code",
        "outputId": "4cf9c4b9-4652-439a-8639-08cbe5a6f37a",
        "colab": {
          "base_uri": "https://localhost:8080/",
          "height": 34
        }
      },
      "cell_type": "code",
      "source": [
        "#Initialize SVD algorithm with default params\n",
        "algo = SVD()\n",
        "algo"
      ],
      "execution_count": 5,
      "outputs": [
        {
          "output_type": "execute_result",
          "data": {
            "text/plain": [
              "<surprise.prediction_algorithms.matrix_factorization.SVD at 0x7f24aa96dd90>"
            ]
          },
          "metadata": {
            "tags": []
          },
          "execution_count": 5
        }
      ]
    },
    {
      "metadata": {
        "id": "zlFcLqr4WEc0",
        "colab_type": "code",
        "outputId": "6e3ecc2f-6d53-4394-8f7a-e05c272e6a36",
        "colab": {
          "base_uri": "https://localhost:8080/",
          "height": 632
        }
      },
      "cell_type": "code",
      "source": [
        "# Evaluate performances of our algorithm on the dataset.\n",
        "perf = evaluate(algo, data, measures=['RMSE', 'MAE'])\n",
        "print_perf(perf)"
      ],
      "execution_count": 6,
      "outputs": [
        {
          "output_type": "stream",
          "text": [
            "/usr/local/lib/python2.7/dist-packages/surprise/evaluate.py:66: UserWarning: The evaluate() method is deprecated. Please use model_selection.cross_validate() instead.\n",
            "  'model_selection.cross_validate() instead.', UserWarning)\n",
            "/usr/local/lib/python2.7/dist-packages/surprise/dataset.py:193: UserWarning: Using data.split() or using load_from_folds() without using a CV iterator is now deprecated. \n",
            "  UserWarning)\n"
          ],
          "name": "stderr"
        },
        {
          "output_type": "stream",
          "text": [
            "Evaluating RMSE, MAE of algorithm SVD.\n",
            "\n",
            "------------\n",
            "Fold 1\n",
            "RMSE: 4.4970\n",
            "MAE:  3.3680\n",
            "------------\n",
            "Fold 2\n",
            "RMSE: 4.5003\n",
            "MAE:  3.3726\n",
            "------------\n",
            "Fold 3\n",
            "RMSE: 4.4925\n",
            "MAE:  3.3665\n",
            "------------\n",
            "Fold 4\n",
            "RMSE: 4.5067\n",
            "MAE:  3.3759\n",
            "------------\n",
            "Fold 5\n",
            "RMSE: 4.4942\n",
            "MAE:  3.3699\n",
            "------------\n",
            "------------\n",
            "Mean RMSE: 4.4982\n",
            "Mean MAE : 3.3706\n",
            "------------\n",
            "------------\n",
            "        Fold 1  Fold 2  Fold 3  Fold 4  Fold 5  Mean    \n",
            "MAE     3.3680  3.3726  3.3665  3.3759  3.3699  3.3706  \n",
            "RMSE    4.4970  4.5003  4.4925  4.5067  4.4942  4.4982  \n"
          ],
          "name": "stdout"
        }
      ]
    }
  ]
}